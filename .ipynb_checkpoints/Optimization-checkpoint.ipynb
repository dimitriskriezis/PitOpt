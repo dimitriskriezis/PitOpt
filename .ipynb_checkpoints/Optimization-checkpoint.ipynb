{
 "cells": [
  {
   "cell_type": "code",
   "execution_count": 76,
   "id": "73c76454",
   "metadata": {},
   "outputs": [],
   "source": [
    "using DataFrames, CSV\n",
    "using JuMP, Gurobi\n",
    "using LinearAlgebra, Random, Printf, StatsBase, CategoricalArrays\n",
    "using Plots, StatsPlots\n",
    "using Distributions\n",
    "using Tables"
   ]
  },
  {
   "cell_type": "code",
   "execution_count": 2,
   "id": "3398bc13",
   "metadata": {},
   "outputs": [
    {
     "name": "stdout",
     "output_type": "stream",
     "text": [
      "Set parameter Username\r\n",
      "Academic license - for non-commercial use only - expires 2023-09-17\r\n"
     ]
    },
    {
     "data": {
      "text/plain": [
       "Gurobi.Env(Ptr{Nothing} @0x000000008b3fb7e0, false, 0)"
      ]
     },
     "execution_count": 2,
     "metadata": {},
     "output_type": "execute_result"
    }
   ],
   "source": [
    "const GRB_ENV = Gurobi.Env()"
   ]
  },
  {
   "cell_type": "markdown",
   "id": "795d591c",
   "metadata": {},
   "source": [
    "Indices:\n",
    "$$\\begin{aligned}\n",
    "    i&=\\text{index of tyre choice}\\\\\n",
    "    j&=\\text{index of the current number of consecutive laps}\\\\\n",
    "    k&=\\text{index of lap number}\\\\\n",
    "\\end{aligned}$$\n"
   ]
  },
  {
   "cell_type": "code",
   "execution_count": 77,
   "id": "bf13cdb5",
   "metadata": {},
   "outputs": [
    {
     "data": {
      "text/plain": [
       "22000"
      ]
     },
     "execution_count": 77,
     "metadata": {},
     "output_type": "execute_result"
    }
   ],
   "source": [
    "df = DataFrame(CSV.File(\"info.csv\",header=true));\n",
    "df=df[:,2:ncol(df)]\n",
    "df =Matrix(df)'\n",
    "\n",
    "c = df\n",
    "# df = DataFrame(CSV.File(\"laptimes.csv\",header=false));\n",
    "# c = Matrix(df[2:end,2:end]);\n",
    "\n",
    "Delta_t_ps = 22000;\n",
    "# c"
   ]
  },
  {
   "cell_type": "code",
   "execution_count": 78,
   "id": "c0082c72",
   "metadata": {},
   "outputs": [
    {
     "data": {
      "text/plain": [
       "70"
      ]
     },
     "execution_count": 78,
     "metadata": {},
     "output_type": "execute_result"
    }
   ],
   "source": [
    "I = size(df)[1] \n",
    "J = 70\n",
    "L = 70"
   ]
  },
  {
   "cell_type": "markdown",
   "id": "dca94b07",
   "metadata": {},
   "source": [
    "Data:\n",
    "\n",
    "$$\\begin{aligned}\n",
    "    c_{i,j}&=\\text{real number that specifies the amount of time it takes to finish a lap with tyre choice $i$ in the $j$-th consecutive lap} \\\\\n",
    "    \\Delta t_{ps}&=\\text{real number that specifies the amount of time required for a pit stop} \\\\\n",
    "\\end{aligned}$$\n"
   ]
  },
  {
   "cell_type": "markdown",
   "id": "5946f550",
   "metadata": {},
   "source": [
    "Decision variables:\n",
    "$$\\begin{aligned}\n",
    "    t_{ijl} &= \\text{binary variable that specifies whether tyre $i$ is chosen for the $j$-th consecutive lap in lap $l$} \\\\\n",
    "    y_{l} &= \\text{binary variable that specifies whether a pit stop is required in lap $l$} \\\\\n",
    "\\end{aligned}$$"
   ]
  },
  {
   "cell_type": "code",
   "execution_count": 79,
   "id": "bbdfefa9",
   "metadata": {},
   "outputs": [],
   "source": [
    "model = Model(() -> Gurobi.Optimizer(GRB_ENV));\n",
    "@variable(model, t[1:I,1:J,1:L], Bin);\n",
    "@variable(model, y[1:L], Bin);"
   ]
  },
  {
   "cell_type": "markdown",
   "id": "53901dff",
   "metadata": {},
   "source": [
    "Objective Function:\n",
    "$$\\begin{equation}\n",
    "    \\text{minimize} \\displaystyle \\sum_{l = 1}^{L} \\left( \\Delta t_{ps} y_{l} + \\sum_{i = 1}^{I} \\sum_{j = 1}^{J} c_{ij} t_{ijl} \\right) \n",
    "\\end{equation}$$"
   ]
  },
  {
   "cell_type": "code",
   "execution_count": 80,
   "id": "59b19d7f",
   "metadata": {},
   "outputs": [],
   "source": [
    "@objective(model, Min, sum(Delta_t_ps*y[l] + sum(c[i,j]*t[i,j,l] for i=1:I, j=1:J) for l=1:L));"
   ]
  },
  {
   "cell_type": "markdown",
   "id": "c9a43291",
   "metadata": {},
   "source": [
    "Constraints:\n",
    "\n",
    "$$\\begin{align}\n",
    "y_{1} &= 0 && \\\\\n",
    "\\sum_{i = 1}^{I} t_{i11} &= 1\\\\\n",
    "\\sum_{i = 1}^{I} \\sum_{j = 1}^{J} t_{ijl} &= 1 && \\forall l \\in 2, \\dots, L \\\\\n",
    "\\sum_{l = 1}^{L} t_{2,1,l} &\\leq 2 && \\\\\n",
    "y_{l} &= \\sum_{i = 1}^{I} t_{i1l} && \\forall l\\in 2, \\dots, L \\\\\n",
    "t_{ijl} &\\leq t_{i,j-1,l-1} && \\forall i \\in 1, \\dots, I, \\forall j \\in 2, \\dots J, \\forall l \\in 2, \\dots, L \\\\\n",
    "t_{ijl} &= \\{ 0, 1\\} && \\forall i \\in 1, \\dots, I, \\forall j \\in 1, \\dots J, \\forall l \\in 1, \\dots, L \\\\\n",
    "y_{l} &= \\{ 0, 1\\} && \\forall l \\in 2, \\dots, L\n",
    "\\end{align}$$"
   ]
  },
  {
   "cell_type": "code",
   "execution_count": 81,
   "id": "bf5608af",
   "metadata": {},
   "outputs": [
    {
     "name": "stderr",
     "output_type": "stream",
     "text": [
      "┌ Warning: Axis contains one element: 1. If intended, you can safely ignore this warning. To explicitly pass the axis with one element, pass `[1]` instead of `1`.\n",
      "└ @ JuMP.Containers C:\\Users\\dimit\\.julia\\packages\\JuMP\\UqjgA\\src\\Containers\\DenseAxisArray.jl:173\n",
      "┌ Warning: Axis contains one element: 1. If intended, you can safely ignore this warning. To explicitly pass the axis with one element, pass `[1]` instead of `1`.\n",
      "└ @ JuMP.Containers C:\\Users\\dimit\\.julia\\packages\\JuMP\\UqjgA\\src\\Containers\\DenseAxisArray.jl:173\n"
     ]
    }
   ],
   "source": [
    "@constraint(model, constraint1[1], y[1] == 0);\n",
    "@constraint(model, constraint2[1], sum(t[i,1,1] for i = 1:I) == 1);\n",
    "@constraint(model, constraint3[l in 2:L], sum(t[i,j,l] for i = 1:I,j = 1:J) == 1);\n",
    "@constraint(model, constraint4[i=1:I], sum(t[i,1,l] for l = 1:L) <= 1); # for all tyres you can you the at most once\n",
    "@constraint(model, constraint5[l in 2:L], sum(t[i,1,l] for i = 1:I) == y[l]);\n",
    "@constraint(model, constraint6[i in 1:I, j in 2:J, l in 2:L], t[i,j,l] <= t[i,j-1,l-1]);"
   ]
  },
  {
   "cell_type": "code",
   "execution_count": 82,
   "id": "d507e705",
   "metadata": {},
   "outputs": [
    {
     "name": "stdout",
     "output_type": "stream",
     "text": [
      "Gurobi Optimizer version 9.5.2 build v9.5.2rc0 (win64)\r\n",
      "Thread count: 4 physical cores, 8 logical processors, using up to 8 threads\r\n",
      "Optimize a model with 62046 rows, 63770 columns and 188466 nonzeros\r\n",
      "Model fingerprint: 0xf0013f1b\r\n",
      "Variable types: 0 continuous, 63770 integer (63770 binary)\r\n",
      "Coefficient statistics:\r\n",
      "  Matrix range     [1e+00, 1e+00]\r\n",
      "  Objective range  [2e+04, 1e+05]\r\n",
      "  Bounds range     [0e+00, 0e+00]\r\n",
      "  RHS range        [1e+00, 1e+00]\r\n",
      "Presolve removed 887 rows and 913 columns\r\n",
      "Presolve time: 0.70s\r\n",
      "Presolved: 61159 rows, 62857 columns, 186680 nonzeros\r\n",
      "Variable types: 0 continuous, 62857 integer (62857 binary)\r\n",
      "Found heuristic solution: objective 7162925.0390\r\n",
      "Found heuristic solution: objective 6388758.5963\r\n",
      "\r\n",
      "Deterministic concurrent LP optimizer: primal and dual simplex\r\n",
      "Showing first log only...\r\n",
      "\r\n",
      "\r\n",
      "Use crossover to convert LP symmetric solution to basic solution...\r\n",
      "Concurrent spin time: 0.00s\r\n",
      "\r\n",
      "Solved with dual simplex\r\n",
      "\r\n",
      "Root relaxation: objective 6.022511e+06, 6654 iterations, 1.66 seconds (1.03 work units)\r\n",
      "\r\n",
      "    Nodes    |    Current Node    |     Objective Bounds      |     Work\r\n",
      " Expl Unexpl |  Obj  Depth IntInf | Incumbent    BestBd   Gap | It/Node Time\r\n",
      "\r\n",
      "     0     0 6022510.85    0  179 6388758.60 6022510.85  5.73%     -    6s\r\n",
      "H    0     0                    6024608.5809 6022510.85  0.03%     -    6s\r\n",
      "H    0     0                    6024133.2016 6022510.85  0.03%     -    6s\r\n",
      "H    0     0                    6022898.9410 6022510.85  0.01%     -    6s\r\n",
      "\r\n",
      "Explored 1 nodes (6840 simplex iterations) in 6.89 seconds (2.22 work units)\r\n",
      "Thread count was 8 (of 8 available processors)\r\n",
      "\r\n",
      "Solution count 5: 6.0229e+06 6.02413e+06 6.02461e+06 ... 7.16293e+06\r\n",
      "\r\n",
      "Optimal solution found (tolerance 1.00e-04)\r\n",
      "Best objective 6.022898941023e+06, best bound 6.022510846482e+06, gap 0.0064%\r\n",
      "\r\n",
      "User-callback calls 839, time in user-callback 0.00 sec\r\n"
     ]
    }
   ],
   "source": [
    "optimize!(model);"
   ]
  },
  {
   "cell_type": "markdown",
   "id": "4a535ff6",
   "metadata": {},
   "source": [
    "## Retrieving the results"
   ]
  },
  {
   "cell_type": "code",
   "execution_count": 83,
   "id": "4d805d04",
   "metadata": {},
   "outputs": [
    {
     "data": {
      "text/plain": [
       "6.022898941023423e6"
      ]
     },
     "execution_count": 83,
     "metadata": {},
     "output_type": "execute_result"
    }
   ],
   "source": [
    "obj_opt = objective_value(model);\n",
    "obj_opt"
   ]
  },
  {
   "cell_type": "code",
   "execution_count": 84,
   "id": "5ef53d27",
   "metadata": {},
   "outputs": [],
   "source": [
    "y_opt = value.(y);\n",
    "t_opt = value.(t);\n",
    "CSV.write(\"OptimalPitStopSchedule.csv\",  Tables.table(y_opt), writeheader=false);\n",
    "CSV.write(\"SoftTyreUseSchedule.csv\",  Tables.table(t_opt[1,:,:]), writeheader=false);\n",
    "CSV.write(\"MediumTyreUseSchedule.csv\",  Tables.table(t_opt[2,:,:]), writeheader=false);\n",
    "CSV.write(\"HardTyreUseSchedule.csv\",  Tables.table(t_opt[3,:,:]), writeheader=false);\n"
   ]
  },
  {
   "cell_type": "code",
   "execution_count": null,
   "id": "c884149b",
   "metadata": {},
   "outputs": [],
   "source": [
    "t_opt = value.(t);"
   ]
  }
 ],
 "metadata": {
  "kernelspec": {
   "display_name": "Julia 1.8.1",
   "language": "julia",
   "name": "julia-1.8"
  },
  "language_info": {
   "file_extension": ".jl",
   "mimetype": "application/julia",
   "name": "julia",
   "version": "1.8.1"
  }
 },
 "nbformat": 4,
 "nbformat_minor": 5
}
