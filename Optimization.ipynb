{
 "cells": [
  {
   "cell_type": "code",
   "execution_count": 12,
   "id": "73c76454",
   "metadata": {},
   "outputs": [],
   "source": [
    "using DataFrames, CSV\n",
    "using JuMP, Gurobi\n",
    "using LinearAlgebra, Random, Printf, StatsBase, CategoricalArrays\n",
    "using Plots, StatsPlots\n",
    "using Distributions\n",
    "using Tables"
   ]
  },
  {
   "cell_type": "code",
   "execution_count": 13,
   "id": "3398bc13",
   "metadata": {},
   "outputs": [
    {
     "name": "stdout",
     "output_type": "stream",
     "text": [
      "Set parameter Username\n",
      "Academic license - for non-commercial use only - expires 2023-09-22\n"
     ]
    },
    {
     "name": "stderr",
     "output_type": "stream",
     "text": [
      "WARNING: redefinition of constant GRB_ENV. This may fail, cause incorrect answers, or produce other errors.\n"
     ]
    },
    {
     "data": {
      "text/plain": [
       "Gurobi.Env(Ptr{Nothing} @0x000000000d162100, false, 0)"
      ]
     },
     "metadata": {},
     "output_type": "display_data"
    }
   ],
   "source": [
    "const GRB_ENV = Gurobi.Env()"
   ]
  },
  {
   "cell_type": "markdown",
   "id": "795d591c",
   "metadata": {},
   "source": [
    "Indices:\n",
    "$$\\begin{aligned}\n",
    "    i&=\\text{index of tyre choice}\\\\\n",
    "    j&=\\text{index of the current number of consecutive laps}\\\\\n",
    "    k&=\\text{index of lap number}\\\\\n",
    "\\end{aligned}$$\n"
   ]
  },
  {
   "cell_type": "code",
   "execution_count": 14,
   "id": "d5df1306",
   "metadata": {},
   "outputs": [
    {
     "data": {
      "text/plain": [
       "22000"
      ]
     },
     "metadata": {},
     "output_type": "display_data"
    }
   ],
   "source": [
    "driverNumber = 4;\n",
    "df = DataFrame(CSV.File(\"DATA/DRIVER\" * string(driverNumber) * \"/info.csv\",header=true));\n",
    "df=df[:,2:ncol(df)]\n",
    "df =Matrix(df)'\n",
    "\n",
    "c = df\n",
    "# df = DataFrame(CSV.File(\"laptimes.csv\",header=false));\n",
    "# c = Matrix(df[2:end,2:end]);\n",
    "\n",
    "Delta_t_ps = 22000;\n",
    "# c"
   ]
  },
  {
   "cell_type": "code",
   "execution_count": 15,
   "id": "c0082c72",
   "metadata": {},
   "outputs": [
    {
     "data": {
      "text/plain": [
       "70"
      ]
     },
     "metadata": {},
     "output_type": "display_data"
    }
   ],
   "source": [
    "I = size(df)[1] \n",
    "J = 70\n",
    "L = 70"
   ]
  },
  {
   "cell_type": "markdown",
   "id": "dca94b07",
   "metadata": {},
   "source": [
    "Data:\n",
    "\n",
    "$$\\begin{aligned}\n",
    "    c_{i,j}&=\\text{real number that specifies the amount of time it takes to finish a lap with tyre choice $i$ in the $j$-th consecutive lap} \\\\\n",
    "    \\Delta t_{ps}&=\\text{real number that specifies the amount of time required for a pit stop} \\\\\n",
    "\\end{aligned}$$\n"
   ]
  },
  {
   "cell_type": "markdown",
   "id": "5946f550",
   "metadata": {},
   "source": [
    "Decision variables:\n",
    "$$\\begin{aligned}\n",
    "    t_{ijl} &= \\text{binary variable that specifies whether tyre $i$ is chosen for the $j$-th consecutive lap in lap $l$} \\\\\n",
    "    y_{l} &= \\text{binary variable that specifies whether a pit stop is required in lap $l$} \\\\\n",
    "\\end{aligned}$$"
   ]
  },
  {
   "cell_type": "code",
   "execution_count": 16,
   "id": "bbdfefa9",
   "metadata": {},
   "outputs": [],
   "source": [
    "model = Model(() -> Gurobi.Optimizer(GRB_ENV));\n",
    "@variable(model, t[1:I,1:J,1:L], Bin);\n",
    "@variable(model, y[1:L], Bin);"
   ]
  },
  {
   "cell_type": "markdown",
   "id": "53901dff",
   "metadata": {},
   "source": [
    "Objective Function:\n",
    "$$\\begin{equation}\n",
    "    \\text{minimize} \\displaystyle \\sum_{l = 1}^{L} \\left( \\Delta t_{ps} y_{l} + \\sum_{i = 1}^{I} \\sum_{j = 1}^{J} c_{ij} t_{ijl} \\right) \n",
    "\\end{equation}$$"
   ]
  },
  {
   "cell_type": "code",
   "execution_count": 17,
   "id": "59b19d7f",
   "metadata": {},
   "outputs": [],
   "source": [
    "@objective(model, Min, sum(Delta_t_ps*y[l] + sum(c[i,j]*t[i,j,l] for i=1:I, j=1:J) for l=1:L));"
   ]
  },
  {
   "cell_type": "markdown",
   "id": "c9a43291",
   "metadata": {},
   "source": [
    "Constraints:\n",
    "\n",
    "$$\\begin{align}\n",
    "y_{1} &= 0 && \\\\\n",
    "\\sum_{i = 1}^{I} t_{i11} &= 1\\\\\n",
    "\\sum_{i = 1}^{I} \\sum_{j = 1}^{J} t_{ijl} &= 1 && \\forall l \\in 2, \\dots, L \\\\\n",
    "\\sum_{l = 1}^{L} t_{2,1,l} &\\leq 2 && \\\\\n",
    "y_{l} &= \\sum_{i = 1}^{I} t_{i1l} && \\forall l\\in 2, \\dots, L \\\\\n",
    "t_{ijl} &\\leq t_{i,j-1,l-1} && \\forall i \\in 1, \\dots, I, \\forall j \\in 2, \\dots J, \\forall l \\in 2, \\dots, L \\\\\n",
    "t_{ijl} &= \\{ 0, 1\\} && \\forall i \\in 1, \\dots, I, \\forall j \\in 1, \\dots J, \\forall l \\in 1, \\dots, L \\\\\n",
    "y_{l} &= \\{ 0, 1\\} && \\forall l \\in 2, \\dots, L\n",
    "\\end{align}$$"
   ]
  },
  {
   "cell_type": "code",
   "execution_count": 18,
   "id": "bf5608af",
   "metadata": {},
   "outputs": [
    {
     "name": "stderr",
     "output_type": "stream",
     "text": [
      "┌ Warning: Axis contains one element: 1. If intended, you can safely ignore this warning. To explicitly pass the axis with one element, pass `[1]` instead of `1`.\n",
      "└ @ JuMP.Containers /home/christopher/.julia/packages/JuMP/UqjgA/src/Containers/DenseAxisArray.jl:173\n",
      "┌ Warning: Axis contains one element: 1. If intended, you can safely ignore this warning. To explicitly pass the axis with one element, pass `[1]` instead of `1`.\n",
      "└ @ JuMP.Containers /home/christopher/.julia/packages/JuMP/UqjgA/src/Containers/DenseAxisArray.jl:173\n"
     ]
    }
   ],
   "source": [
    "@constraint(model, constraint1[1], y[1] == 0);\n",
    "@constraint(model, constraint2[1], sum(t[i,1,1] for i = 1:I) == 1);\n",
    "@constraint(model, constraint3[l in 2:L], sum(t[i,j,l] for i = 1:I,j = 1:J) == 1);\n",
    "@constraint(model, constraint4[i=1:I], sum(t[i,1,l] for l = 1:L) <= 1); # for all tyres you can you the at most once\n",
    "@constraint(model, constraint5[l in 2:L], sum(t[i,1,l] for i = 1:I) == y[l]);\n",
    "@constraint(model, constraint6[i in 1:I, j in 2:J, l in 2:L], t[i,j,l] <= t[i,j-1,l-1]);"
   ]
  },
  {
   "cell_type": "code",
   "execution_count": 19,
   "id": "d507e705",
   "metadata": {},
   "outputs": [
    {
     "name": "stdout",
     "output_type": "stream",
     "text": [
      "Gurobi Optimizer version 9.5.1 build v9.5.1rc2 (linux64)\n",
      "Thread count: 6 physical cores, 12 logical processors, using up to 12 threads\n",
      "Optimize a model with 62046 rows, 63770 columns and 188466 nonzeros\n",
      "Model fingerprint: 0xf0013f1b\n",
      "Variable types: 0 continuous, 63770 integer (63770 binary)\n",
      "Coefficient statistics:\n",
      "  Matrix range     [1e+00, 1e+00]\n",
      "  Objective range  [2e+04, 1e+05]\n",
      "  Bounds range     [0e+00, 0e+00]\n",
      "  RHS range        [1e+00, 1e+00]\n",
      "Presolve removed 887 rows and 913 columns\n",
      "Presolve time: 0.47s\n",
      "Presolved: 61159 rows, 62857 columns, 186680 nonzeros\n",
      "Variable types: 0 continuous, 62857 integer (62857 binary)\n",
      "Found heuristic solution: objective 7162925.0390\n",
      "Found heuristic solution: objective 6388758.5963\n",
      "\n",
      "Deterministic concurrent LP optimizer: primal and dual simplex\n",
      "Showing first log only...\n",
      "\n",
      "Concurrent spin time: 0.01s\n",
      "\n",
      "Solved with dual simplex\n",
      "\n",
      "Root relaxation: objective 6.022511e+06, 6515 iterations, 1.07 seconds (1.01 work units)\n",
      "\n",
      "    Nodes    |    Current Node    |     Objective Bounds      |     Work\n",
      " Expl Unexpl |  Obj  Depth IntInf | Incumbent    BestBd   Gap | It/Node Time\n",
      "\n",
      "     0     0 6022510.85    0  169 6388758.60 6022510.85  5.73%     -    4s\n",
      "H    0     0                    6024309.2994 6022510.85  0.03%     -    4s\n",
      "H    0     0                    6023123.0763 6022510.85  0.01%     -    5s\n",
      "     0     0 6022568.85    0  249 6023123.08 6022568.85  0.01%     -    6s\n",
      "\n",
      "Cutting planes:\n",
      "  Gomory: 2\n",
      "  Zero half: 1\n",
      "\n",
      "Explored 1 nodes (7165 simplex iterations) in 6.07 seconds (2.69 work units)\n",
      "Thread count was 12 (of 12 available processors)\n",
      "\n",
      "Solution count 4: 6.02312e+06 6.02431e+06 6.38876e+06 7.16293e+06 \n",
      "\n",
      "Optimal solution found (tolerance 1.00e-04)\n",
      "Best objective 6.023123076346e+06, best bound 6.022568848084e+06, gap 0.0092%\n",
      "\n",
      "User-callback calls 1081, time in user-callback 0.00 sec\n"
     ]
    }
   ],
   "source": [
    "optimize!(model);"
   ]
  },
  {
   "cell_type": "markdown",
   "id": "4a535ff6",
   "metadata": {},
   "source": [
    "## Retrieving the results"
   ]
  },
  {
   "cell_type": "code",
   "execution_count": 20,
   "id": "4d805d04",
   "metadata": {},
   "outputs": [
    {
     "data": {
      "text/plain": [
       "6.023123076345878e6"
      ]
     },
     "metadata": {},
     "output_type": "display_data"
    }
   ],
   "source": [
    "obj_opt = objective_value(model);\n",
    "obj_opt"
   ]
  },
  {
   "cell_type": "code",
   "execution_count": 21,
   "id": "5ef53d27",
   "metadata": {},
   "outputs": [],
   "source": [
    "y_opt = value.(y);\n",
    "t_opt = value.(t);\n",
    "CSV.write(\"DATA/DRIVER\" * string(driverNumber) * \"/OptimalPitStopSchedule.csv\",  Tables.table(y_opt), writeheader=false);\n",
    "\n",
    "\n",
    "for i in 1:I \n",
    "    FileName = \"DATA/DRIVER\" * string(driverNumber) * \"/Tyre-\" * string(i) * \".csv\";\n",
    "    CSV.write(FileName,  Tables.table(t_opt[i,:,:]), writeheader=false);\n",
    "end\n"
   ]
  },
  {
   "cell_type": "code",
   "execution_count": 22,
   "id": "c884149b",
   "metadata": {},
   "outputs": [
    {
     "name": "stdout",
     "output_type": "stream",
     "text": [
      "Lap: 1\n",
      "5\n",
      "Lap: 2\n",
      "5\n",
      "Lap: 3\n",
      "5\n",
      "Lap: 4\n",
      "5\n",
      "Lap: 5\n",
      "5\n",
      "Lap: 6\n",
      "5\n",
      "Lap: 7\n",
      "5\n",
      "Lap: 8\n",
      "5\n",
      "Lap: 9\n",
      "5\n",
      "Lap: 10\n",
      "5\n",
      "Lap: 11\n",
      "5\n",
      "Lap: 12\n",
      "8\n",
      "Lap: 13\n",
      "8\n",
      "Lap: 14\n",
      "8\n",
      "Lap: 15\n",
      "8\n",
      "Lap: 16\n",
      "8\n",
      "Lap: 17\n",
      "8\n",
      "Lap: 18\n",
      "8\n",
      "Lap: 19\n",
      "8\n",
      "Lap: 20\n",
      "8\n",
      "Lap: 21\n",
      "8\n",
      "Lap: 22\n",
      "8\n",
      "Lap: 23\n",
      "8\n",
      "Lap: 24\n",
      "8\n",
      "Lap: 25\n",
      "8\n",
      "Lap: 26\n",
      "8\n",
      "Lap: 27\n",
      "11\n",
      "Lap: 28\n",
      "11\n",
      "Lap: 29\n"
     ]
    },
    {
     "name": "stdout",
     "output_type": "stream",
     "text": [
      "11\n",
      "Lap: 30\n",
      "11\n",
      "Lap: 31\n",
      "11\n",
      "Lap: 32\n",
      "11\n",
      "Lap: 33\n",
      "11\n",
      "Lap: 34\n",
      "11\n",
      "Lap: 35\n",
      "11\n",
      "Lap: 36\n",
      "11\n",
      "Lap: 37\n",
      "11\n",
      "Lap: 38\n",
      "11\n",
      "Lap: 39\n",
      "11\n",
      "Lap: 40\n",
      "11\n",
      "Lap: 41\n",
      "11\n",
      "Lap: 42\n",
      "11\n",
      "Lap: 43\n",
      "11\n",
      "Lap: 44\n",
      "11\n",
      "Lap: 45\n",
      "11\n",
      "Lap: 46\n",
      "11\n",
      "Lap: 47\n",
      "11\n",
      "Lap: 48\n",
      "11\n",
      "Lap: 49\n",
      "11\n",
      "Lap: 50\n",
      "10\n",
      "Lap: 51\n",
      "10\n",
      "Lap: 52\n",
      "10\n",
      "Lap: 53\n",
      "10\n",
      "Lap: 54\n",
      "10\n",
      "Lap: 55\n",
      "10\n",
      "Lap: 56\n",
      "10\n",
      "Lap: 57\n",
      "10\n",
      "Lap: 58\n",
      "10\n",
      "Lap: 59\n",
      "10\n",
      "Lap: 60\n",
      "10\n",
      "Lap: 61\n",
      "10\n",
      "Lap: 62\n",
      "10\n",
      "Lap: 63\n",
      "10\n",
      "Lap: 64\n",
      "10\n",
      "Lap: 65\n",
      "10\n",
      "Lap: 66\n",
      "10\n",
      "Lap: 67\n",
      "10\n",
      "Lap: 68\n",
      "10\n",
      "Lap: 69\n",
      "10\n",
      "Lap: 70\n",
      "10\n"
     ]
    }
   ],
   "source": [
    "t_opt = value.(t);\n",
    "\n",
    "for l in 1:L #for every lap\n",
    "    println(\"Lap: \"*string(l))\n",
    "    for i in 1:I\n",
    "        for j in 1:J\n",
    "            if t_opt[i, j, l] == 1\n",
    "                println(i)\n",
    "            end\n",
    "        end\n",
    "    end    \n",
    "end\n",
    "    "
   ]
  }
 ],
 "metadata": {
  "kernelspec": {
   "display_name": "Julia 1.8.1",
   "language": "julia",
   "name": "julia-1.8"
  },
  "language_info": {
   "file_extension": ".jl",
   "mimetype": "application/julia",
   "name": "julia",
   "version": "1.8.1"
  }
 },
 "nbformat": 4,
 "nbformat_minor": 5
}
