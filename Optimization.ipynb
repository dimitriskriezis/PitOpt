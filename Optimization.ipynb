{
 "cells": [
  {
   "cell_type": "code",
   "execution_count": 1,
   "id": "73c76454",
   "metadata": {},
   "outputs": [],
   "source": [
    "using DataFrames, CSV\n",
    "using JLD\n",
    "using JuMP, Gurobi\n",
    "using LinearAlgebra, Random, Printf, StatsBase, CategoricalArrays\n",
    "using Plots, StatsPlots\n",
    "using Distributions\n",
    "using Tables"
   ]
  },
  {
   "cell_type": "code",
   "execution_count": 2,
   "id": "3398bc13",
   "metadata": {},
   "outputs": [
    {
     "name": "stdout",
     "output_type": "stream",
     "text": [
      "Set parameter Username\n",
      "Academic license - for non-commercial use only - expires 2023-09-22\n"
     ]
    },
    {
     "data": {
      "text/plain": [
       "Gurobi.Env(Ptr{Nothing} @0x00000000076a6740, false, 0)"
      ]
     },
     "metadata": {},
     "output_type": "display_data"
    }
   ],
   "source": [
    "const GRB_ENV = Gurobi.Env()"
   ]
  },
  {
   "cell_type": "markdown",
   "id": "795d591c",
   "metadata": {},
   "source": [
    "Indices:\n",
    "$$\\begin{aligned}\n",
    "    i&=\\text{index of tyre choice}\\\\\n",
    "    j&=\\text{index of the current number of consecutive laps}\\\\\n",
    "    k&=\\text{index of lap number}\\\\\n",
    "\\end{aligned}$$\n"
   ]
  },
  {
   "cell_type": "code",
   "execution_count": 3,
   "id": "c0082c72",
   "metadata": {},
   "outputs": [
    {
     "data": {
      "text/plain": [
       "70"
      ]
     },
     "metadata": {},
     "output_type": "display_data"
    }
   ],
   "source": [
    "I = 3\n",
    "J = 70\n",
    "L = 70"
   ]
  },
  {
   "cell_type": "markdown",
   "id": "dca94b07",
   "metadata": {},
   "source": [
    "Data:\n",
    "\n",
    "$$\\begin{aligned}\n",
    "    c_{i,j}&=\\text{real number that specifies the amount of time it takes to finish a lap with tyre choice $i$ in the $j$-th consecutive lap} \\\\\n",
    "    \\Delta t_{ps}&=\\text{real number that specifies the amount of time required for a pit stop} \\\\\n",
    "\\end{aligned}$$\n"
   ]
  },
  {
   "cell_type": "code",
   "execution_count": 9,
   "id": "fb798182",
   "metadata": {},
   "outputs": [],
   "source": [
    "df = DataFrame(CSV.File(\"laptimes.csv\",header=false));\n",
    "c = Matrix(df[2:end,2:end]);\n",
    "\n",
    "Delta_t_ps = 20000;"
   ]
  },
  {
   "cell_type": "markdown",
   "id": "5946f550",
   "metadata": {},
   "source": [
    "Decision variables:\n",
    "$$\\begin{aligned}\n",
    "    t_{ijl} &= \\text{binary variable that specifies whether tyre $i$ is chosen for the $j$-th consecutive lap in lap $l$} \\\\\n",
    "    y_{l} &= \\text{binary variable that specifies whether a pit stop is required in lap $l$} \\\\\n",
    "\\end{aligned}$$"
   ]
  },
  {
   "cell_type": "code",
   "execution_count": 10,
   "id": "bbdfefa9",
   "metadata": {},
   "outputs": [],
   "source": [
    "model = Model(() -> Gurobi.Optimizer(GRB_ENV));\n",
    "@variable(model, t[1:I,1:J,1:L], Bin);\n",
    "@variable(model, y[1:L], Bin);"
   ]
  },
  {
   "cell_type": "markdown",
   "id": "53901dff",
   "metadata": {},
   "source": [
    "Objective Function:\n",
    "$$\\begin{equation}\n",
    "    \\text{minimize} \\displaystyle \\sum_{l = 1}^{L} \\left( \\Delta t_{ps} y_{l} + \\sum_{i = 1}^{I} \\sum_{j = 1}^{J} c_{ij} t_{ijl} \\right) \n",
    "\\end{equation}$$"
   ]
  },
  {
   "cell_type": "code",
   "execution_count": 11,
   "id": "59b19d7f",
   "metadata": {},
   "outputs": [],
   "source": [
    "@objective(model, Min, sum(Delta_t_ps*y[l] + sum(c[i,j]*t[i,j,l] for i=1:I, j=1:J) for l=1:L));"
   ]
  },
  {
   "cell_type": "markdown",
   "id": "c9a43291",
   "metadata": {},
   "source": [
    "$$\\begin{align}\n",
    "y_{1} &= 0 && \\\\\n",
    "\\sum_{i = 1}^{I} t_{i11} &= 1\\\\\n",
    "\\sum_{i = 1}^{I} \\sum_{j = 1}^{J} t_{ijl} &= 1 && \\forall l \\in 2, \\dots, L \\\\\n",
    "y_{l} &= \\sum_{i = 1}^{I} t_{i1l} && \\forall l\\in 2, \\dots, L \\\\\n",
    "t_{ijl} &\\leq t_{i,j-1,l-1} && \\forall i \\in 1, \\dots, I, \\forall j \\in 2, \\dots J, \\forall l \\in 2, \\dots, L \\\\\n",
    "t_{ijl} &= \\{ 0, 1\\} && \\forall i \\in 1, \\dots, I, \\forall j \\in 1, \\dots J, \\forall l \\in 1, \\dots, L \\\\\n",
    "y_{l} &= \\{ 0, 1\\} && \\forall l \\in 2, \\dots, L\n",
    "\\end{align}$$"
   ]
  },
  {
   "cell_type": "code",
   "execution_count": 12,
   "id": "bf5608af",
   "metadata": {},
   "outputs": [
    {
     "name": "stderr",
     "output_type": "stream",
     "text": [
      "┌ Warning: Axis contains one element: 1. If intended, you can safely ignore this warning. To explicitly pass the axis with one element, pass `[1]` instead of `1`.\n",
      "└ @ JuMP.Containers /home/christopher/.julia/packages/JuMP/UqjgA/src/Containers/DenseAxisArray.jl:173\n",
      "┌ Warning: Axis contains one element: 1. If intended, you can safely ignore this warning. To explicitly pass the axis with one element, pass `[1]` instead of `1`.\n",
      "└ @ JuMP.Containers /home/christopher/.julia/packages/JuMP/UqjgA/src/Containers/DenseAxisArray.jl:173\n"
     ]
    }
   ],
   "source": [
    "@constraint(model, constraint1[1], y[1] == 0);\n",
    "@constraint(model, constraint2[1], sum(t[i,1,1] for i = 1:I) == 1);\n",
    "@constraint(model, constraint3[l in 2:L], sum(t[i,j,l] for i = 1:I,j = 1:J) == 1);\n",
    "@constraint(model, constraint4[l in 2:L], sum(t[i,1,l] for i = 1:I) == y[l]);\n",
    "@constraint(model, constraint5[i in 1:I, j in 2:J, l in 2:L], t[i,j,l] <= t[i,j-1,l-1]);"
   ]
  },
  {
   "cell_type": "code",
   "execution_count": 13,
   "id": "d507e705",
   "metadata": {},
   "outputs": [
    {
     "name": "stdout",
     "output_type": "stream",
     "text": [
      "Gurobi Optimizer version 9.5.1 build v9.5.1rc2 (linux64)\n",
      "Thread count: 6 physical cores, 12 logical processors, using up to 12 threads\n",
      "Optimize a model with 14423 rows, 14770 columns and 43336 nonzeros\n",
      "Model fingerprint: 0x5ee13ecf\n",
      "Variable types: 0 continuous, 14770 integer (14770 binary)\n",
      "Coefficient statistics:\n",
      "  Matrix range     [1e+00, 1e+00]\n",
      "  Objective range  [2e+04, 9e+04]\n",
      "  Bounds range     [0e+00, 0e+00]\n",
      "  RHS range        [1e+00, 1e+00]\n",
      "Presolve removed 487 rows and 499 columns\n",
      "Presolve time: 0.15s\n",
      "Presolved: 13936 rows, 14271 columns, 42209 nonzeros\n",
      "Variable types: 0 continuous, 14271 integer (14271 binary)\n",
      "Found heuristic solution: objective 6351051.2599\n",
      "Found heuristic solution: objective 6053195.6099\n",
      "\n",
      "Root relaxation: objective 5.988722e+06, 1532 iterations, 0.10 seconds (0.31 work units)\n",
      "\n",
      "    Nodes    |    Current Node    |     Objective Bounds      |     Work\n",
      " Expl Unexpl |  Obj  Depth IntInf | Incumbent    BestBd   Gap | It/Node Time\n",
      "\n",
      "*    0     0               0    5988722.4731 5988722.47  0.00%     -    0s\n",
      "\n",
      "Explored 1 nodes (1532 simplex iterations) in 0.35 seconds (0.62 work units)\n",
      "Thread count was 12 (of 12 available processors)\n",
      "\n",
      "Solution count 3: 5.98872e+06 6.0532e+06 6.35105e+06 \n",
      "\n",
      "Optimal solution found (tolerance 1.00e-04)\n",
      "Best objective 5.988722473109e+06, best bound 5.988722473109e+06, gap 0.0000%\n",
      "\n",
      "User-callback calls 408, time in user-callback 0.00 sec\n"
     ]
    }
   ],
   "source": [
    "optimize!(model);"
   ]
  },
  {
   "cell_type": "markdown",
   "id": "4a535ff6",
   "metadata": {},
   "source": [
    "## Retrieving the results"
   ]
  },
  {
   "cell_type": "code",
   "execution_count": 20,
   "id": "4d805d04",
   "metadata": {},
   "outputs": [
    {
     "data": {
      "text/plain": [
       "5.988722473109243e6"
      ]
     },
     "metadata": {},
     "output_type": "display_data"
    }
   ],
   "source": [
    "obj_opt = objective_value(model);\n",
    "obj_opt"
   ]
  },
  {
   "cell_type": "code",
   "execution_count": 27,
   "id": "5ef53d27",
   "metadata": {},
   "outputs": [],
   "source": [
    "y_opt = value.(y);\n",
    "t_opt = value.(t);\n",
    "CSV.write(\"OptimalPitStopSchedule.csv\",  Tables.table(y_opt), writeheader=false);\n",
    "CSV.write(\"SoftTyreUseSchedule.csv\",  Tables.table(t_opt[1,:,:]), writeheader=false);\n",
    "CSV.write(\"MediumTyreUseSchedule.csv\",  Tables.table(t_opt[2,:,:]), writeheader=false);\n",
    "CSV.write(\"HardTyreUseSchedule.csv\",  Tables.table(t_opt[3,:,:]), writeheader=false);\n"
   ]
  }
 ],
 "metadata": {
  "kernelspec": {
   "display_name": "Julia 1.8.1",
   "language": "julia",
   "name": "julia-1.8"
  },
  "language_info": {
   "file_extension": ".jl",
   "mimetype": "application/julia",
   "name": "julia",
   "version": "1.8.1"
  }
 },
 "nbformat": 4,
 "nbformat_minor": 5
}
